{
 "cells": [
  {
   "cell_type": "code",
   "execution_count": 1,
   "id": "04e5de74",
   "metadata": {},
   "outputs": [
    {
     "name": "stdout",
     "output_type": "stream",
     "text": [
      "Requirement already satisfied: split-folders in c:\\users\\menna\\anaconda3\\lib\\site-packages (0.5.1)\n",
      "Note: you may need to restart the kernel to use updated packages.\n"
     ]
    }
   ],
   "source": [
    "# First download and import library\n",
    "%pip install split-folders"
   ]
  },
  {
   "cell_type": "code",
   "execution_count": 2,
   "id": "102501d4",
   "metadata": {},
   "outputs": [],
   "source": [
    "# importing used data\n",
    "import os, splitfolders"
   ]
  },
  {
   "cell_type": "code",
   "execution_count": 35,
   "id": "39fb082a",
   "metadata": {},
   "outputs": [],
   "source": [
    "# Remember replacing the variables with your data \n",
    "folderName = 'images'\n",
    "ext = '.png'\n",
    "\n",
    "# These values changes based on how your data is classified in the main folder\n",
    "# ex. I first classified my data based on probabilities and renamed them \n",
    "# if prob >= 0.3 classify it as a, else classify as b\n",
    "ClassA = 'a'\n",
    "ClassB = 'b'"
   ]
  },
  {
   "cell_type": "code",
   "execution_count": 39,
   "id": "392f9196",
   "metadata": {},
   "outputs": [
    {
     "name": "stdout",
     "output_type": "stream",
     "text": [
      "a (1).png\n",
      "a (2).png\n",
      "a (3).png\n",
      "a (4).png\n"
     ]
    }
   ],
   "source": [
    "# a for 0, b for 1\n",
    "i = 0\n",
    "j = 0\n",
    "\n",
    "\n",
    "# here if you want to classify based on other data, you should loop over\n",
    "# the values of your images names and the other data values\n",
    "# using zip({firstLisyt}, {secondList})\n",
    "for file in os.listdir(folderName):\n",
    "    name = f'{folderName}/' + file\n",
    "    if file[0] == f'{ClassA}':\n",
    "        i += 1\n",
    "        os.rename(name, 'Data/' + f'a{i}' + ext)\n",
    "    elif file[0] == f'{ClassB}':\n",
    "        j += 1\n",
    "        os.rename(name, 'Data/' + f'b{j}' + ext)"
   ]
  },
  {
   "cell_type": "code",
   "execution_count": 41,
   "id": "1d84701c",
   "metadata": {},
   "outputs": [],
   "source": [
    "# here we prepare the data to be classified to the classes folders\n",
    "# Make sure to create Folders for Class A and Class B or whatever you want to name the folders with\n",
    "src = 'Data'\n",
    "dsta = 'Data/Class A'\n",
    "dstb = 'Data/Class B'\n",
    "\n",
    "for file in os.listdir('Data'):\n",
    "    src_path = os.path.join(src, file)\n",
    "    if str(file)[0] == ClassA:\n",
    "        dst_path = os.path.join(dsta, file)\n",
    "        os.rename(src_path, dst_path)\n",
    "    elif str(file)[0] == ClassB:\n",
    "        dst_path = os.path.join(dstb, file)\n",
    "        os.rename(src_path, dst_path)"
   ]
  },
  {
   "cell_type": "code",
   "execution_count": 42,
   "id": "a9bb4bbc",
   "metadata": {},
   "outputs": [
    {
     "name": "stderr",
     "output_type": "stream",
     "text": [
      "Copying files: 10 files [00:00, 777.98 files/s]\n"
     ]
    }
   ],
   "source": [
    "# It will create folder named Classified Data you will find three folders in \n",
    "# train, test, val and in each one of them you will find folders for you classes\n",
    "splitfolders.ratio('Data', output=\"Classified Data\", seed=1337, ratio=(.8, 0.1,0.1)) "
   ]
  },
  {
   "cell_type": "code",
   "execution_count": null,
   "id": "b41a7b01",
   "metadata": {},
   "outputs": [],
   "source": []
  }
 ],
 "metadata": {
  "kernelspec": {
   "display_name": "Python 3 (ipykernel)",
   "language": "python",
   "name": "python3"
  },
  "language_info": {
   "codemirror_mode": {
    "name": "ipython",
    "version": 3
   },
   "file_extension": ".py",
   "mimetype": "text/x-python",
   "name": "python",
   "nbconvert_exporter": "python",
   "pygments_lexer": "ipython3",
   "version": "3.9.12"
  }
 },
 "nbformat": 4,
 "nbformat_minor": 5
}
