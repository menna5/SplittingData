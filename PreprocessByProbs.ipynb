{
 "cells": [
  {
   "cell_type": "markdown",
   "id": "f5f6f7e8",
   "metadata": {},
   "source": [
    "# Splitting Data By Probs"
   ]
  },
  {
   "cell_type": "markdown",
   "id": "2da1854e",
   "metadata": {},
   "source": [
    "Used data is images for solar cell images\n",
    "[Data Resource](https://github.com/zae-bayern/elpv-dataset?fbclid=IwAR2VeDSv9YxbbkdZpRVfi9km048fkAHu31kxmm7I7FVia54pFMiKpzpy_kc)\n",
    "\n",
    "This Data Can be used for a model to classify if the cell is defected or not"
   ]
  },
  {
   "cell_type": "code",
   "execution_count": 1,
   "id": "f57d4e44",
   "metadata": {},
   "outputs": [],
   "source": [
    "# needed libraries\n",
    "\n",
    "import os, cv2\n",
    "import numpy as np\n",
    "from sklearn.model_selection import train_test_split"
   ]
  },
  {
   "cell_type": "code",
   "execution_count": 2,
   "id": "a1b51908",
   "metadata": {},
   "outputs": [],
   "source": [
    "# Function from the main repo\n",
    "\n",
    "def load_cell_image(fname):\n",
    "    with Image.open(fname) as image:\n",
    "        return np.asarray(image)\n",
    "        \n",
    "def load(fname='labels.csv'):\n",
    "    data = np.genfromtxt(fname, dtype=['|S19', 'f8', '|S4'], names=[\n",
    "                         'path', 'probability', 'type'])\n",
    "    image_fnames = np.char.decode(data['path'])\n",
    "    probs = data['probability']\n",
    "    types = np.char.decode(data['type'])\n",
    "    \n",
    "    \n",
    "    dir = os.path.dirname(fname)\n",
    "\n",
    "    images = np.array([load_cell_image(os.path.join(dir, fn))\n",
    "                       for fn in image_fnames])\n",
    "    \n",
    "    return images, probs, types"
   ]
  },
  {
   "cell_type": "code",
   "execution_count": 4,
   "id": "26cf859b",
   "metadata": {
    "scrolled": true
   },
   "outputs": [],
   "source": [
    "# importing images_names and data from labels.csv file\n",
    "\n",
    "images_names = [image for image in os.listdir('images')]\n",
    "images, probs, types = load('labels.csv')"
   ]
  },
  {
   "cell_type": "code",
   "execution_count": 1,
   "id": "d08782ab",
   "metadata": {
    "scrolled": true
   },
   "outputs": [
    {
     "name": "stdout",
     "output_type": "stream",
     "text": [
      "\n"
     ]
    }
   ],
   "source": [
    "# converting the probabilities into 2 classes\n",
    "# (0,0.33) = 0\n",
    "# (0.66 ,1) = 1\n",
    "\n",
    "for i in range(len(probs)):\n",
    "    if (probs[i] >= 0) and (probs[i] < 0.34):\n",
    "        probs[i] = 0\n",
    "    elif (probs[i] > 0.65) and (probs[i] <= 1):\n",
    "        probs[i] = 1\n",
    "\n",
    "print(probs)"
   ]
  },
  {
   "cell_type": "code",
   "execution_count": 10,
   "id": "cca8f1d1",
   "metadata": {},
   "outputs": [],
   "source": [
    "# a for 0, b for 1\n",
    "\n",
    "a = 0\n",
    "b = 0\n",
    "for name, prob in zip(images_names, probs):\n",
    "    name = 'images/'+ name\n",
    "    if prob == 0.0\n",
    "        a += 1\n",
    "        os.rename(name, 'Data/' + f'a{a}' + '.png')\n",
    "    elif prob == 1.0:\n",
    "        b += 1\n",
    "        os.rename(name, 'Data/' + f'b{b}' + '.png')"
   ]
  },
  {
   "cell_type": "code",
   "execution_count": 9,
   "id": "cead8e07",
   "metadata": {},
   "outputs": [],
   "source": [
    "src = 'Data'\n",
    "dsta = 'Data/Class A'\n",
    "dstb = 'Data/Class B'\n",
    "\n",
    "for file in os.listdir('Data'):\n",
    "    src_path = os.path.join(src, file)\n",
    "    if str(file)[0] == 'a':\n",
    "        dst_path = os.path.join(dsta, file)\n",
    "        os.rename(src_path, dst_path)\n",
    "    elif str(file)[0] == 'b':\n",
    "        dst_path = os.path.join(dstb, file)\n",
    "        os.rename(src_path, dst_path)"
   ]
  },
  {
   "cell_type": "code",
   "execution_count": 11,
   "id": "c40b7f22",
   "metadata": {
    "scrolled": true
   },
   "outputs": [
    {
     "name": "stderr",
     "output_type": "stream",
     "text": [
      "Copying files: 2624 files [00:03, 845.69 files/s]\n"
     ]
    }
   ],
   "source": [
    "import splitfolders\n",
    "splitfolders.ratio('Data', output=\"ClassifiedByProbs\", seed=1337, ratio=(.8, 0.1,0.1)) "
   ]
  }
 ],
 "metadata": {
  "kernelspec": {
   "display_name": "Python 3 (ipykernel)",
   "language": "python",
   "name": "python3"
  },
  "language_info": {
   "codemirror_mode": {
    "name": "ipython",
    "version": 3
   },
   "file_extension": ".py",
   "mimetype": "text/x-python",
   "name": "python",
   "nbconvert_exporter": "python",
   "pygments_lexer": "ipython3",
   "version": "3.9.12"
  }
 },
 "nbformat": 4,
 "nbformat_minor": 5
}
